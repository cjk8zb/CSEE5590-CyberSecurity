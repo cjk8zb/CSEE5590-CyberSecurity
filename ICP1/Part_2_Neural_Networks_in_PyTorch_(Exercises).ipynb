{
  "nbformat": 4,
  "nbformat_minor": 0,
  "metadata": {
    "colab": {
      "name": "Part 2 - Neural Networks in PyTorch (Exercises).ipynb",
      "version": "0.3.2",
      "provenance": [],
      "collapsed_sections": []
    },
    "language_info": {
      "codemirror_mode": {
        "name": "ipython",
        "version": 3
      },
      "file_extension": ".py",
      "mimetype": "text/x-python",
      "name": "python",
      "nbconvert_exporter": "python",
      "pygments_lexer": "ipython3",
      "version": "3.7.3"
    },
    "kernelspec": {
      "display_name": "Python 3",
      "language": "python",
      "name": "python3"
    }
  },
  "cells": [
    {
      "cell_type": "markdown",
      "metadata": {
        "colab_type": "text",
        "id": "nioWaS5T6zYh"
      },
      "source": [
        "# Neural networks with PyTorch\n",
        "\n",
        "Deep learning networks tend to be massive with dozens or hundreds of layers, that's where the term \"deep\" comes from. You can build one of these deep networks using only weight matrices as we did in the previous notebook, but in general it's very cumbersome and difficult to implement. PyTorch has a nice module `nn` that provides a nice way to efficiently build large neural networks."
      ]
    },
    {
      "cell_type": "code",
      "metadata": {
        "colab_type": "code",
        "id": "B9fU9HaK6zYi",
        "colab": {}
      },
      "source": [
        "# Import necessary packages\n",
        "\n",
        "%matplotlib inline\n",
        "%config InlineBackend.figure_format = 'retina'\n",
        "\n",
        "import numpy as np\n",
        "import torch\n",
        "\n",
        "import helper\n",
        "\n",
        "import matplotlib.pyplot as plt"
      ],
      "execution_count": 0,
      "outputs": []
    },
    {
      "cell_type": "markdown",
      "metadata": {
        "colab_type": "text",
        "id": "RuNC3JKC6zYl"
      },
      "source": [
        "\n",
        "Now we're going to build a larger network that can solve a (formerly) difficult problem, identifying text in an image. Here we'll use the MNIST dataset which consists of greyscale handwritten digits. Each image is 28x28 pixels, you can see a sample below\n",
        "\n",
        "<img src='assets/mnist.png'>\n",
        "\n",
        "Our goal is to build a neural network that can take one of these images and predict the digit in the image.\n",
        "\n",
        "First up, we need to get our dataset. This is provided through the `torchvision` package. The code below will download the MNIST dataset, then create training and test datasets for us. Don't worry too much about the details here, you'll learn more about this later."
      ]
    },
    {
      "cell_type": "code",
      "metadata": {
        "colab_type": "code",
        "id": "iJiUFfx66zYm",
        "colab": {}
      },
      "source": [
        "### Run this cell\n",
        "\n",
        "from torchvision import datasets, transforms\n",
        "\n",
        "# Define a transform to normalize the data\n",
        "transform = transforms.Compose([transforms.ToTensor(),\n",
        "                              transforms.Normalize((0.5,), (0.5,)),\n",
        "                              ])\n",
        "\n",
        "# Download and load the training data\n",
        "trainset = datasets.MNIST('~/.pytorch/MNIST_data/', download=True, train=True, transform=transform)\n",
        "trainloader = torch.utils.data.DataLoader(trainset, batch_size=64, shuffle=True)"
      ],
      "execution_count": 0,
      "outputs": []
    },
    {
      "cell_type": "markdown",
      "metadata": {
        "colab_type": "text",
        "id": "uM4MVNEs6zYo"
      },
      "source": [
        "We have the training data loaded into `trainloader` and we make that an iterator with `iter(trainloader)`. Later, we'll use this to loop through the dataset for training, like\n",
        "\n",
        "```python\n",
        "for image, label in trainloader:\n",
        "    ## do things with images and labels\n",
        "```\n",
        "\n",
        "You'll notice I created the `trainloader` with a batch size of 64, and `shuffle=True`. The batch size is the number of images we get in one iteration from the data loader and pass through our network, often called a *batch*. And `shuffle=True` tells it to shuffle the dataset every time we start going through the data loader again. But here I'm just grabbing the first batch so we can check out the data. We can see below that `images` is just a tensor with size `(64, 1, 28, 28)`. So, 64 images per batch, 1 color channel, and 28x28 images."
      ]
    },
    {
      "cell_type": "code",
      "metadata": {
        "colab_type": "code",
        "id": "uoHboaVC6zYp",
        "outputId": "5e9b8970-fbb6-44c5-9700-9a043f8979b1",
        "colab": {
          "base_uri": "https://localhost:8080/",
          "height": 68
        }
      },
      "source": [
        "dataiter = iter(trainloader)\n",
        "images, labels = dataiter.next()\n",
        "print(type(images))\n",
        "print(images.shape)\n",
        "print(labels.shape)"
      ],
      "execution_count": 0,
      "outputs": [
        {
          "output_type": "stream",
          "text": [
            "<class 'torch.Tensor'>\n",
            "torch.Size([64, 1, 28, 28])\n",
            "torch.Size([64])\n"
          ],
          "name": "stdout"
        }
      ]
    },
    {
      "cell_type": "markdown",
      "metadata": {
        "colab_type": "text",
        "id": "rHQzIzJW6zYt"
      },
      "source": [
        "This is what one of the images looks like. "
      ]
    },
    {
      "cell_type": "code",
      "metadata": {
        "colab_type": "code",
        "id": "OCidZQtX6zYt",
        "outputId": "4fa0c794-7acb-4953-f3aa-e804cdfdb3fa",
        "colab": {
          "base_uri": "https://localhost:8080/",
          "height": 267
        }
      },
      "source": [
        "plt.imshow(images[1].numpy().squeeze(), cmap='Greys_r');"
      ],
      "execution_count": 0,
      "outputs": [
        {
          "output_type": "display_data",
          "data": {
            "image/png": "[encoded data removed]",
            "text/plain": [
              "<Figure size 432x288 with 1 Axes>"
            ]
          },
          "metadata": {
            "tags": [],
            "image/png": {
              "width": 253,
              "height": 250
            }
          }
        }
      ]
    },
    {
      "cell_type": "markdown",
      "metadata": {
        "colab_type": "text",
        "id": "Oc4Fg14y6zYw"
      },
      "source": [
        "First, let's try to build a simple network for this dataset using weight matrices and matrix multiplications. Then, we'll see how to do it using PyTorch's `nn` module which provides a much more convenient and powerful method for defining network architectures.\n",
        "\n",
        "The networks you've seen so far are called *fully-connected* or *dense* networks. Each unit in one layer is connected to each unit in the next layer. In fully-connected networks, the input to each layer must be a one-dimensional vector (which can be stacked into a 2D tensor as a batch of multiple examples). However, our images are 28x28 2D tensors, so we need to convert them into 1D vectors. Thinking about sizes, we need to convert the batch of images with shape `(64, 1, 28, 28)` to a have a shape of `(64, 784)`, 784 is 28 times 28. This is typically called *flattening*, we flattened the 2D images into 1D vectors.\n",
        "\n",
        "Previously you built a network with one output unit. Here we need 10 output units, one for each digit. We want our network to predict the digit shown in an image, so what we'll do is calculate probabilities that the image is of any one digit or class. This ends up being a discrete probability distribution over the classes (digits) that tells us the most likely class for the image. That means we need 10 output units for the 10 classes (digits). We'll see how to convert the network output into a probability distribution next.\n",
        "\n",
        "> **Exercise:** Flatten the batch of images `images`. Then build a multi-layer network with 784 input units, 256 hidden units, and 10 output units using random tensors for the weights and biases. For now, use a sigmoid activation for the hidden layer. Leave the output layer without an activation, we'll add one that gives us a probability distribution next."
      ]
    },
    {
      "cell_type": "code",
      "metadata": {
        "colab_type": "code",
        "id": "bPRbgkNd6zYw",
        "outputId": "f7e80d84-4966-4aca-9e44-9a46bd72cd3a",
        "colab": {
          "base_uri": "https://localhost:8080/",
          "height": 2193
        }
      },
      "source": [
        "## Your solution\n",
        "def activation(x):\n",
        "  \"\"\" Sigmoid activation function \n",
        "  \n",
        "      Arguments\n",
        "      ---------\n",
        "      x: torch.Tensor\n",
        "  \"\"\"\n",
        "  return 1/(1+torch.exp(-x))\n",
        "\n",
        "torch.manual_seed(7)\n",
        "features = images.reshape(64, -1)\n",
        "n_input = features.shape[1]\n",
        "n_hidden = 256\n",
        "n_output = 10\n",
        "W1 = torch.randn(n_input, n_hidden)\n",
        "W2 = torch.randn(n_hidden, n_output)\n",
        "B1 = torch.randn((1, n_hidden))\n",
        "B2 = torch.randn((1, n_output))\n",
        "out = activation(torch.mm(features, W1) + B1)\n",
        "out = torch.mm(out, W2) + B2 # output of your network, should have shape (64,10)\n",
        "out"
      ],
      "execution_count": 0,
      "outputs": [
        {
          "output_type": "execute_result",
          "data": {
            "text/plain": [
              "tensor([[-8.3708e+00,  1.7235e-01, -4.3163e-02, -9.8258e+00,  1.1273e+01,\n",
              "          1.4363e+00, -6.2372e+00,  6.6587e+00, -1.5343e+01, -6.0813e+00],\n",
              "        [-1.2671e+01, -1.2761e+01, -1.1929e+00, -1.2347e+01,  1.0097e+01,\n",
              "          1.9312e+00, -4.0369e+00,  1.7231e+00, -1.6005e+01, -8.0212e+00],\n",
              "        [-1.3696e+01, -7.1486e+00,  2.7877e+00, -7.3148e+00,  2.9790e+00,\n",
              "          1.3865e+00, -1.1460e+00,  9.5419e+00, -7.9218e+00, -1.2257e+01],\n",
              "        [-1.8989e+01, -8.0776e+00, -5.2559e+00,  5.7627e+00, -7.7774e+00,\n",
              "          2.1664e+01, -6.5418e+00, -2.0023e+01, -1.0986e+01,  6.0935e+00],\n",
              "        [-1.3369e+01, -1.9063e+01,  1.9648e+00, -9.8277e+00,  2.2568e+00,\n",
              "          5.8750e+00, -2.3767e+00, -4.3652e+00, -1.7738e+01, -1.5574e+01],\n",
              "        [-6.8682e+00, -4.9044e+00,  3.3014e+00, -7.4275e+00,  1.0843e-02,\n",
              "          5.6892e+00, -5.9802e+00,  3.3728e+00, -1.2591e+01, -5.4926e+00],\n",
              "        [-2.2160e+01, -1.3138e+01, -6.0451e+00, -4.2714e+00,  6.9026e+00,\n",
              "          3.6684e+00,  2.5280e-01,  1.1454e+01, -1.3312e+01, -6.5850e+00],\n",
              "        [-4.1653e+00,  5.8247e+00, -2.3999e+00, -6.0683e+00,  1.4040e+01,\n",
              "         -5.8491e+00, -2.4485e+00, -6.0903e+00, -1.3846e+01, -4.8983e+00],\n",
              "        [-6.2373e+00, -2.1073e+00, -5.6291e+00, -1.0935e+01,  1.1060e+01,\n",
              "          1.1859e+01, -3.6701e+00, -5.6419e+00, -5.6114e+00, -8.2397e+00],\n",
              "        [-2.3700e+01,  3.4383e-01, -6.8137e-01, -7.2468e+00,  1.1901e+01,\n",
              "          6.4080e+00, -3.2666e-01,  2.1502e+00, -1.1433e+01,  8.1003e-02],\n",
              "        [-1.4360e+01, -1.6242e+01, -4.1177e+00, -9.7743e+00,  6.9676e+00,\n",
              "          3.3729e+00, -6.0399e+00,  9.2774e+00, -1.5146e+01, -8.3340e+00],\n",
              "        [-1.3783e+01, -1.5487e+01, -1.0042e+01, -1.1648e+01,  7.1389e+00,\n",
              "          1.1003e+01, -5.4401e+00,  5.5819e+00, -1.4371e+01, -7.8374e+00],\n",
              "        [-1.0242e+01, -3.7828e+00,  3.3603e+00,  4.0002e+00,  1.3356e+01,\n",
              "          1.0180e+01, -1.7066e+01, -4.3547e+00, -5.6710e+00, -1.5211e+00],\n",
              "        [-9.9622e+00, -1.2843e+01, -5.9045e+00, -1.1800e+01,  8.7783e+00,\n",
              "          6.1337e+00, -2.5677e+00, -5.4369e+00, -1.5278e+01, -5.5025e+00],\n",
              "        [-2.2542e+01,  8.4397e+00,  3.9753e+00, -6.2870e+00,  1.1401e+01,\n",
              "          1.0092e+01, -2.0543e+00, -1.6085e-01, -1.6574e+01,  3.8819e+00],\n",
              "        [-1.0943e+01, -1.0334e+01, -2.3703e+00, -6.2247e+00,  7.3593e+00,\n",
              "          1.0402e+01, -6.8762e+00,  6.2269e+00, -3.6562e+00,  2.3972e+00],\n",
              "        [-9.8504e+00, -2.7739e+00, -4.0490e-01, -5.8760e+00,  9.8882e+00,\n",
              "          5.4552e+00,  2.1351e+00,  6.6948e+00, -1.0746e+01, -3.6529e+00],\n",
              "        [-1.8386e+01, -1.0961e+01, -2.3996e+00, -1.0965e+01,  5.9265e+00,\n",
              "          6.7044e+00, -1.7207e+00,  5.3558e+00, -1.2008e+01, -5.8843e-01],\n",
              "        [-8.3521e+00, -4.7383e+00, -9.8347e-01, -2.1229e+01,  1.2801e+01,\n",
              "          6.6718e+00, -1.8956e+01,  1.3179e+00, -1.7243e+01, -2.8497e+00],\n",
              "        [-1.4696e+01, -9.0128e+00, -6.7312e+00, -1.0044e+01,  1.8986e+01,\n",
              "          3.1369e+00, -7.6523e+00,  4.6497e+00, -8.4943e+00, -3.1107e+00],\n",
              "        [-1.3325e+01, -1.4153e+01, -2.2705e+00, -1.3111e+01,  1.6437e+01,\n",
              "          1.3487e+01, -4.8621e+00,  7.6571e+00, -8.9888e+00, -1.3865e+00],\n",
              "        [-1.6693e+01, -6.5579e+00,  4.2542e+00, -1.3746e+01,  2.4545e+00,\n",
              "          1.0222e+01, -2.2270e+00, -1.9186e+00, -1.7137e+01,  4.0331e+00],\n",
              "        [-2.0492e+01, -8.6369e+00,  4.9320e+00, -6.9766e+00,  1.7560e+00,\n",
              "          4.3149e+00, -8.9851e+00,  2.2927e+00, -1.3482e+01, -3.7757e+00],\n",
              "        [-2.0467e+01, -1.3594e+01, -7.3696e+00, -6.2167e+00,  5.9657e+00,\n",
              "          4.7679e+00,  3.0320e+00,  1.4569e+01, -1.1703e+01, -6.1399e+00],\n",
              "        [-9.2587e+00, -1.1460e+01,  6.0142e+00, -4.3454e-01,  5.5728e+00,\n",
              "          1.0547e+01, -3.5373e+00, -4.0836e+00, -1.3299e+01,  8.3980e+00],\n",
              "        [-8.5152e+00, -4.8645e+00, -1.2250e+01, -1.0408e+01,  7.1443e+00,\n",
              "          1.1410e+01,  2.0888e+00, -5.4029e+00, -2.0734e+01, -6.5927e+00],\n",
              "        [-1.9901e+01, -9.5523e+00,  1.9598e+00, -1.5586e+01,  5.8863e+00,\n",
              "          4.1266e+00, -3.0752e+00,  5.9915e+00, -1.4995e+01, -1.1592e+00],\n",
              "        [-1.2981e+01, -1.1041e+01,  9.9428e+00, -6.6762e-01, -3.8282e-01,\n",
              "          9.0583e+00,  7.5047e+00, -1.0341e+01, -6.9991e+00, -1.2334e+01],\n",
              "        [-1.1678e+01, -9.3506e+00,  1.8415e+00, -4.3495e+00,  1.9725e+00,\n",
              "         -1.1753e-01, -5.0031e-02, -9.6425e+00, -1.7973e+01, -6.8418e+00],\n",
              "        [-9.8528e+00, -1.0355e+01,  2.5259e+00, -1.3876e+01,  8.7043e+00,\n",
              "          9.6632e+00,  7.7580e+00,  5.8139e+00, -2.1283e+01,  3.9136e+00],\n",
              "        [-1.6888e+01, -1.0228e+01,  5.3005e-01, -1.7378e+01, -2.3111e+00,\n",
              "          1.1195e+01, -1.2671e+01,  6.4588e+00, -1.3634e+01,  1.2631e+00],\n",
              "        [-6.4680e+00, -1.2100e+01, -3.5169e+00, -3.7267e+00,  1.0789e+01,\n",
              "          4.3668e+00, -9.8304e+00, -2.5137e+00, -9.7239e+00,  2.3994e+00],\n",
              "        [-1.6858e+01, -2.0696e+01, -9.1912e+00, -5.4770e+00,  8.4752e+00,\n",
              "          1.3995e+01,  5.7524e+00, -6.1186e-01, -1.5779e+01, -1.2348e+01],\n",
              "        [-1.1968e+01, -8.8788e+00, -3.7627e+00, -1.0612e+00,  1.0047e+01,\n",
              "          1.6500e+01, -3.0461e-01,  5.0574e+00, -1.5396e+01,  6.0737e+00],\n",
              "        [-1.3467e+01, -1.3708e+01, -1.7844e+00, -3.3276e+00,  1.0060e+01,\n",
              "          6.3547e+00,  8.7075e-01, -3.6765e+00, -1.2171e+01, -1.2598e+00],\n",
              "        [-1.1921e+00,  3.2991e-01,  4.9343e+00, -1.4605e+01,  6.3131e-01,\n",
              "         -4.9151e-01, -4.1409e+00,  5.8200e+00, -1.5613e+01, -1.3053e+00],\n",
              "        [-1.7479e+01, -7.0521e+00, -1.6994e+00, -1.1785e+01,  4.8763e+00,\n",
              "         -1.0544e+00, -7.4968e+00, -7.0265e+00, -1.4204e+01,  5.6507e+00],\n",
              "        [-1.4381e+01, -7.8156e+00,  4.6150e+00, -1.0418e+01,  4.6895e+00,\n",
              "          6.5345e+00, -8.9735e+00,  9.9718e-01, -3.5549e+00, -6.1877e+00],\n",
              "        [-7.8805e+00, -1.9611e+00, -6.4027e-01, -6.0749e-01,  6.1826e+00,\n",
              "          8.1094e+00, -5.4171e-01, -7.1794e+00, -1.2484e+01, -2.8407e+00],\n",
              "        [-1.2448e+01, -3.5741e+00, -4.4026e-01, -1.2657e+01,  7.7725e+00,\n",
              "          1.3694e+01, -9.3181e+00, -2.8976e+00, -1.2884e+01, -3.3457e+00],\n",
              "        [-1.7633e+01, -3.1372e+00,  9.6420e-01, -9.2880e+00,  1.3990e+01,\n",
              "          1.7620e+01, -2.5410e+00,  5.8753e+00, -8.6263e+00, -1.0708e+01],\n",
              "        [-5.0101e+00, -1.4098e+01, -2.4206e-01, -1.0091e+01,  5.6884e+00,\n",
              "          1.0445e+01,  7.2716e-01,  3.3278e+00, -1.5954e+01, -1.2560e+01],\n",
              "        [-1.6177e+01, -1.2443e+01, -4.4455e+00, -1.1164e+01,  7.5369e-01,\n",
              "          6.7194e+00, -1.0924e+01, -1.7098e+00, -1.4868e+01,  4.0031e+00],\n",
              "        [-1.8774e+01, -9.8857e+00, -2.0018e+00, -6.5427e+00,  1.2333e+01,\n",
              "          4.2563e+00, -3.5310e+00,  6.4935e+00, -1.1960e+01, -6.2413e+00],\n",
              "        [-1.6314e+01, -1.1139e+01,  3.2248e+00, -2.1105e+01,  1.5779e+00,\n",
              "          9.4601e+00, -3.3670e+00,  3.7288e+00, -5.6825e+00, -4.7150e+00],\n",
              "        [-1.2332e+01, -9.5869e+00, -7.9612e+00, -1.2993e+01,  8.3122e+00,\n",
              "          7.0351e+00, -6.8107e+00,  7.5246e+00, -1.5857e+01, -4.4598e+00],\n",
              "        [-1.8788e+01,  9.3837e+00, -6.6996e-01, -1.6407e+00,  3.8887e+00,\n",
              "         -1.1100e+00, -4.5832e+00,  1.2315e+00, -6.6348e+00,  2.7428e+00],\n",
              "        [-1.2393e+01, -1.0294e+01, -2.6584e+00, -1.0781e+01,  7.0210e+00,\n",
              "          3.0744e+00, -4.2585e+00,  5.2893e+00, -1.0819e+01, -7.2765e+00],\n",
              "        [-1.6904e+01, -1.5578e+00, -1.4416e+01, -1.0982e+01,  3.3519e+00,\n",
              "          4.6893e+00, -1.8836e+00,  5.9498e+00, -1.4323e+01,  6.1284e-01],\n",
              "        [-1.4030e+01, -6.1609e+00, -3.0118e+00, -8.9527e+00,  5.8358e+00,\n",
              "         -4.3942e-02, -8.4132e+00,  3.7331e+00, -7.4149e+00, -2.6670e+00],\n",
              "        [-1.8137e+01,  1.5968e-01,  6.4218e+00, -5.0299e+00,  2.7898e+00,\n",
              "          1.0277e+01,  4.7541e+00,  4.2481e+00, -1.7606e+01,  2.0984e+00],\n",
              "        [-1.5437e+01, -1.0061e+01,  4.3959e-01, -1.2100e+01,  3.9585e+00,\n",
              "          1.0129e+01, -2.2334e+00,  5.6869e+00, -2.0010e+01, -4.1843e+00],\n",
              "        [-3.3475e+00, -1.8584e+00, -1.0129e+01, -7.7545e+00, -5.3730e-01,\n",
              "         -9.4940e-02, -9.3982e+00, -1.7832e+00, -1.8002e+01,  1.8631e+00],\n",
              "        [-1.3846e+01, -1.1133e+01,  3.1429e+00, -2.8338e+00,  1.1603e+01,\n",
              "          6.5401e+00, -6.3604e+00,  2.2875e+00, -1.2888e+01, -2.3515e+00],\n",
              "        [-1.5294e+01, -2.7459e+00, -1.4345e-01,  2.8163e+00, -4.0017e+00,\n",
              "          1.6225e+01, -1.2980e+01, -1.0959e+01, -6.1568e+00,  1.3138e+00],\n",
              "        [-1.5891e+01, -2.7247e+00, -4.5656e+00, -9.7774e+00,  8.5977e+00,\n",
              "         -1.5818e+00, -1.1522e+01,  3.1191e+00, -2.3982e+00, -3.9269e+00],\n",
              "        [-1.1247e+01, -1.5279e+01, -3.0310e+00, -6.0197e+00,  8.8020e+00,\n",
              "          4.6639e+00, -4.7042e+00, -7.4162e-01, -1.3131e+01, -4.8952e+00],\n",
              "        [-1.8292e+01, -7.8628e+00,  5.3093e+00, -1.3976e+01,  2.8295e+00,\n",
              "         -6.5283e-01, -3.7093e+00, -1.5149e+00, -1.1021e+01, -3.6423e-01],\n",
              "        [-1.0193e+01, -1.4092e+00, -7.7318e+00, -1.0926e+01,  8.4964e+00,\n",
              "          7.3936e+00, -2.6007e+00,  9.0143e+00, -1.7585e+01,  1.7483e+00],\n",
              "        [-1.4194e+01, -1.4086e+01, -1.8333e+00, -3.1235e+00,  1.0059e+01,\n",
              "          6.7956e+00, -7.7068e+00,  8.8445e-02, -1.3932e+01, -6.2302e+00],\n",
              "        [-8.3676e+00, -1.1037e+01, -4.4983e+00, -1.2536e+01,  1.8485e+00,\n",
              "          1.0582e+01, -6.2429e+00,  2.9094e+00, -1.7019e+01, -3.0887e+00],\n",
              "        [-2.0079e+01, -2.2073e+01, -8.1748e+00, -1.9103e+01,  3.5881e+00,\n",
              "          1.5704e+01,  6.0393e+00,  1.5507e+00, -2.9407e+01, -1.3676e-01],\n",
              "        [-1.2254e+01, -9.0571e-02,  1.5033e+00, -5.1863e+00,  2.7668e+00,\n",
              "          9.3122e+00, -5.7479e+00, -4.7900e+00, -1.4522e+01, -2.3921e+00],\n",
              "        [-1.6059e+01, -1.4347e+01, -9.2198e+00, -5.5955e+00,  9.3819e+00,\n",
              "          1.8967e+00, -2.8822e+00,  1.0790e+01, -1.0035e+01, -7.3211e+00]])"
            ]
          },
          "metadata": {
            "tags": []
          },
          "execution_count": 107
        }
      ]
    },
    {
      "cell_type": "markdown",
      "metadata": {
        "colab_type": "text",
        "id": "6GybC_dB6zYy"
      },
      "source": [
        "Now we have 10 outputs for our network. We want to pass in an image to our network and get out a probability distribution over the classes that tells us the likely class(es) the image belongs to. Something that looks like this:\n",
        "<img src='assets/image_distribution.png' width=500px>\n",
        "\n",
        "Here we see that the probability for each class is roughly the same. This is representing an untrained network, it hasn't seen any data yet so it just returns a uniform distribution with equal probabilities for each class.\n",
        "\n",
        "To calculate this probability distribution, we often use the [**softmax** function](https://en.wikipedia.org/wiki/Softmax_function). Mathematically this looks like\n",
        "\n",
        "$$\n",
        "\\Large \\sigma(x_i) = \\cfrac{e^{x_i}}{\\sum_k^K{e^{x_k}}}\n",
        "$$\n",
        "\n",
        "What this does is squish each input $x_i$ between 0 and 1 and normalizes the values to give you a proper probability distribution where the probabilites sum up to one.\n",
        "\n",
        "> **Exercise:** Implement a function `softmax` that performs the softmax calculation and returns probability distributions for each example in the batch. Note that you'll need to pay attention to the shapes when doing this. If you have a tensor `a` with shape `(64, 10)` and a tensor `b` with shape `(64,)`, doing `a/b` will give you an error because PyTorch will try to do the division across the columns (called broadcasting) but you'll get a size mismatch. The way to think about this is for each of the 64 examples, you only want to divide by one value, the sum in the denominator. So you need `b` to have a shape of `(64, 1)`. This way PyTorch will divide the 10 values in each row of `a` by the one value in each row of `b`. Pay attention to how you take the sum as well. You'll need to define the `dim` keyword in `torch.sum`. Setting `dim=0` takes the sum across the rows while `dim=1` takes the sum across the columns."
      ]
    },
    {
      "cell_type": "code",
      "metadata": {
        "colab_type": "code",
        "id": "VeHL9em46zYz",
        "outputId": "31b685b2-c1a6-4c1f-a779-9c64a07d3ea9",
        "colab": {
          "base_uri": "https://localhost:8080/",
          "height": 170
        }
      },
      "source": [
        "def softmax(x):\n",
        "    n = x.exp()\n",
        "    d = n.sum(dim=1).view(-1, 1)\n",
        "    a = n / d\n",
        "    return a\n",
        "\n",
        "# Here, out should be the output of the network in the previous excercise with shape (64,10)\n",
        "probabilities = softmax(out)\n",
        "\n",
        "# Does it have the right shape? Should be (64, 10)\n",
        "print(probabilities.shape)\n",
        "# Does it sum to 1?\n",
        "print(probabilities.sum(dim=1))"
      ],
      "execution_count": 0,
      "outputs": [
        {
          "output_type": "stream",
          "text": [
            "torch.Size([64, 10])\n",
            "tensor([1.0000, 1.0000, 1.0000, 1.0000, 1.0000, 1.0000, 1.0000, 1.0000, 1.0000,\n",
            "        1.0000, 1.0000, 1.0000, 1.0000, 1.0000, 1.0000, 1.0000, 1.0000, 1.0000,\n",
            "        1.0000, 1.0000, 1.0000, 1.0000, 1.0000, 1.0000, 1.0000, 1.0000, 1.0000,\n",
            "        1.0000, 1.0000, 1.0000, 1.0000, 1.0000, 1.0000, 1.0000, 1.0000, 1.0000,\n",
            "        1.0000, 1.0000, 1.0000, 1.0000, 1.0000, 1.0000, 1.0000, 1.0000, 1.0000,\n",
            "        1.0000, 1.0000, 1.0000, 1.0000, 1.0000, 1.0000, 1.0000, 1.0000, 1.0000,\n",
            "        1.0000, 1.0000, 1.0000, 1.0000, 1.0000, 1.0000, 1.0000, 1.0000, 1.0000,\n",
            "        1.0000])\n"
          ],
          "name": "stdout"
        }
      ]
    },
    {
      "cell_type": "markdown",
      "metadata": {
        "colab_type": "text",
        "id": "DWC_P_Hq6zY1"
      },
      "source": [
        "## Building networks with PyTorch\n",
        "\n",
        "PyTorch provides a module `nn` that makes building networks much simpler. Here I'll show you how to build the same one as above with 784 inputs, 256 hidden units, 10 output units and a softmax output."
      ]
    },
    {
      "cell_type": "code",
      "metadata": {
        "colab_type": "code",
        "id": "hhekDzyF6zY1",
        "colab": {}
      },
      "source": [
        "from torch import nn"
      ],
      "execution_count": 0,
      "outputs": []
    },
    {
      "cell_type": "code",
      "metadata": {
        "colab_type": "code",
        "id": "TjelgUTk6zY4",
        "colab": {}
      },
      "source": [
        "class Network(nn.Module):\n",
        "    def __init__(self):\n",
        "        super().__init__()\n",
        "        \n",
        "        # Inputs to hidden layer linear transformation\n",
        "        self.hidden = nn.Linear(784, 256)\n",
        "        # Output layer, 10 units - one for each digit\n",
        "        self.output = nn.Linear(256, 10)\n",
        "        \n",
        "        # Define sigmoid activation and softmax output \n",
        "        self.sigmoid = nn.Sigmoid()\n",
        "        self.softmax = nn.Softmax(dim=1)\n",
        "        \n",
        "    def forward(self, x):\n",
        "        # Pass the input tensor through each of our operations\n",
        "        x = self.hidden(x)\n",
        "        x = self.sigmoid(x)\n",
        "        x = self.output(x)\n",
        "        x = self.softmax(x)\n",
        "        \n",
        "        return x"
      ],
      "execution_count": 0,
      "outputs": []
    },
    {
      "cell_type": "markdown",
      "metadata": {
        "colab_type": "text",
        "id": "sI0RH4yR6zY6"
      },
      "source": [
        "Let's go through this bit by bit.\n",
        "\n",
        "```python\n",
        "class Network(nn.Module):\n",
        "```\n",
        "\n",
        "Here we're inheriting from `nn.Module`. Combined with `super().__init__()` this creates a class that tracks the architecture and provides a lot of useful methods and attributes. It is mandatory to inherit from `nn.Module` when you're creating a class for your network. The name of the class itself can be anything.\n",
        "\n",
        "```python\n",
        "self.hidden = nn.Linear(784, 256)\n",
        "```\n",
        "\n",
        "This line creates a module for a linear transformation, $x\\mathbf{W} + b$, with 784 inputs and 256 outputs and assigns it to `self.hidden`. The module automatically creates the weight and bias tensors which we'll use in the `forward` method. You can access the weight and bias tensors once the network (`net`) is created with `net.hidden.weight` and `net.hidden.bias`.\n",
        "\n",
        "```python\n",
        "self.output = nn.Linear(256, 10)\n",
        "```\n",
        "\n",
        "Similarly, this creates another linear transformation with 256 inputs and 10 outputs.\n",
        "\n",
        "```python\n",
        "self.sigmoid = nn.Sigmoid()\n",
        "self.softmax = nn.Softmax(dim=1)\n",
        "```\n",
        "\n",
        "Here I defined operations for the sigmoid activation and softmax output. Setting `dim=1` in `nn.Softmax(dim=1)` calculates softmax across the columns.\n",
        "\n",
        "```python\n",
        "def forward(self, x):\n",
        "```\n",
        "\n",
        "PyTorch networks created with `nn.Module` must have a `forward` method defined. It takes in a tensor `x` and passes it through the operations you defined in the `__init__` method.\n",
        "\n",
        "```python\n",
        "x = self.hidden(x)\n",
        "x = self.sigmoid(x)\n",
        "x = self.output(x)\n",
        "x = self.softmax(x)\n",
        "```\n",
        "\n",
        "Here the input tensor `x` is passed through each operation and reassigned to `x`. We can see that the input tensor goes through the hidden layer, then a sigmoid function, then the output layer, and finally the softmax function. It doesn't matter what you name the variables here, as long as the inputs and outputs of the operations match the network architecture you want to build. The order in which you define things in the `__init__` method doesn't matter, but you'll need to sequence the operations correctly in the `forward` method.\n",
        "\n",
        "Now we can create a `Network` object."
      ]
    },
    {
      "cell_type": "code",
      "metadata": {
        "colab_type": "code",
        "id": "NhiJ8csl6zY6",
        "outputId": "8b44a0e2-5a05-4501-fe5e-2b16c4596e84",
        "colab": {
          "base_uri": "https://localhost:8080/",
          "height": 119
        }
      },
      "source": [
        "# Create the network and look at it's text representation\n",
        "model = Network()\n",
        "model"
      ],
      "execution_count": 0,
      "outputs": [
        {
          "output_type": "execute_result",
          "data": {
            "text/plain": [
              "Network(\n",
              "  (hidden): Linear(in_features=784, out_features=256, bias=True)\n",
              "  (output): Linear(in_features=256, out_features=10, bias=True)\n",
              "  (sigmoid): Sigmoid()\n",
              "  (softmax): Softmax()\n",
              ")"
            ]
          },
          "metadata": {
            "tags": []
          },
          "execution_count": 111
        }
      ]
    },
    {
      "cell_type": "markdown",
      "metadata": {
        "colab_type": "text",
        "id": "4SK__sGg6zY8"
      },
      "source": [
        "You can define the network somewhat more concisely and clearly using the `torch.nn.functional` module. This is the most common way you'll see networks defined as many operations are simple element-wise functions. We normally import this module as `F`, `import torch.nn.functional as F`."
      ]
    },
    {
      "cell_type": "code",
      "metadata": {
        "colab_type": "code",
        "id": "gxq-86bw6zY9",
        "colab": {}
      },
      "source": [
        "import torch.nn.functional as F\n",
        "\n",
        "class Network(nn.Module):\n",
        "    def __init__(self):\n",
        "        super().__init__()\n",
        "        # Inputs to hidden layer linear transformation\n",
        "        self.hidden = nn.Linear(784, 256)\n",
        "        # Output layer, 10 units - one for each digit\n",
        "        self.output = nn.Linear(256, 10)\n",
        "        \n",
        "    def forward(self, x):\n",
        "        # Hidden layer with sigmoid activation\n",
        "        x = F.sigmoid(self.hidden(x))\n",
        "        # Output layer with softmax activation\n",
        "        x = F.softmax(self.output(x), dim=1)\n",
        "        \n",
        "        return x"
      ],
      "execution_count": 0,
      "outputs": []
    },
    {
      "cell_type": "markdown",
      "metadata": {
        "colab_type": "text",
        "id": "So9nuqpY6zY-"
      },
      "source": [
        "### Activation functions\n",
        "\n",
        "So far we've only been looking at the sigmoid activation function, but in general any function can be used as an activation function. The only requirement is that for a network to approximate a non-linear function, the activation functions must be non-linear. Here are a few more examples of common activation functions: Tanh (hyperbolic tangent), and ReLU (rectified linear unit).\n",
        "\n",
        "<img src=\"assets/activation.png\" width=700px>\n",
        "\n",
        "In practice, the ReLU function is used almost exclusively as the activation function for hidden layers."
      ]
    },
    {
      "cell_type": "markdown",
      "metadata": {
        "colab_type": "text",
        "id": "6eexNaXX6zY_"
      },
      "source": [
        "### Your Turn to Build a Network\n",
        "\n",
        "<img src=\"assets/mlp_mnist.png\" width=600px>\n",
        "\n",
        "> **Exercise:** Create a network with 784 input units, a hidden layer with 128 units and a ReLU activation, then a hidden layer with 64 units and a ReLU activation, and finally an output layer with a softmax activation as shown above. You can use a ReLU activation with the `nn.ReLU` module or `F.relu` function.\n",
        "\n",
        "It's good practice to name your layers by their type of network, for instance 'fc' to represent a fully-connected layer. As you code your solution, use `fc1`, `fc2`, and `fc3` as your layer names."
      ]
    },
    {
      "cell_type": "code",
      "metadata": {
        "colab_type": "code",
        "id": "Af9GHP016zY_",
        "scrolled": true,
        "outputId": "4b8cee46-9479-402f-8387-6dc5669d5b6e",
        "colab": {
          "base_uri": "https://localhost:8080/",
          "height": 102
        }
      },
      "source": [
        "## Your solution here\n",
        "import torch.nn.functional as F\n",
        "\n",
        "class Network(nn.Module):\n",
        "    def __init__(self):\n",
        "        super().__init__()\n",
        "        # Inputs to hidden layer linear transformation\n",
        "        self.fc1 = nn.Linear(784, 128)\n",
        "        self.fc2 = nn.Linear(128, 64)\n",
        "\n",
        "        # Output layer, 10 units - one for each digit\n",
        "        self.fc3 = nn.Linear(64, 10)\n",
        "        \n",
        "    def forward(self, x):\n",
        "        # Hidden layer with sigmoid activation\n",
        "        x = F.relu(self.fc1(x))\n",
        "        x = F.relu(self.fc2(x))\n",
        "        # Output layer with softmax activation\n",
        "        x = F.softmax(self.fc3(x), dim=1)\n",
        "        \n",
        "        return x\n",
        "      \n",
        "model = Network()\n",
        "model"
      ],
      "execution_count": 0,
      "outputs": [
        {
          "output_type": "execute_result",
          "data": {
            "text/plain": [
              "Network(\n",
              "  (fc1): Linear(in_features=784, out_features=128, bias=True)\n",
              "  (fc2): Linear(in_features=128, out_features=64, bias=True)\n",
              "  (fc3): Linear(in_features=64, out_features=10, bias=True)\n",
              ")"
            ]
          },
          "metadata": {
            "tags": []
          },
          "execution_count": 113
        }
      ]
    },
    {
      "cell_type": "markdown",
      "metadata": {
        "colab_type": "text",
        "id": "n8Y51qv66zZB"
      },
      "source": [
        "### Initializing weights and biases\n",
        "\n",
        "The weights and such are automatically initialized for you, but it's possible to customize how they are initialized. The weights and biases are tensors attached to the layer you defined, you can get them with `model.fc1.weight` for instance."
      ]
    },
    {
      "cell_type": "code",
      "metadata": {
        "colab_type": "code",
        "id": "nRY--AkE6zZB",
        "outputId": "e3b829df-0385-4685-8ddf-72158e788d43",
        "colab": {
          "base_uri": "https://localhost:8080/",
          "height": 476
        }
      },
      "source": [
        "print(model.fc1.weight)\n",
        "print(model.fc1.bias)"
      ],
      "execution_count": 0,
      "outputs": [
        {
          "output_type": "stream",
          "text": [
            "Parameter containing:\n",
            "tensor([[ 0.0019,  0.0005, -0.0266,  ...,  0.0021,  0.0257,  0.0180],\n",
            "        [-0.0291,  0.0194,  0.0033,  ..., -0.0058, -0.0152, -0.0074],\n",
            "        [-0.0255,  0.0141, -0.0173,  ..., -0.0066,  0.0269,  0.0035],\n",
            "        ...,\n",
            "        [-0.0114,  0.0222,  0.0197,  ...,  0.0243,  0.0304,  0.0111],\n",
            "        [-0.0090, -0.0345, -0.0355,  ..., -0.0130,  0.0239, -0.0339],\n",
            "        [ 0.0088,  0.0205,  0.0327,  ..., -0.0091,  0.0315,  0.0055]],\n",
            "       requires_grad=True)\n",
            "Parameter containing:\n",
            "tensor([-0.0006, -0.0100,  0.0276, -0.0134, -0.0039,  0.0245, -0.0207,  0.0039,\n",
            "        -0.0155,  0.0004,  0.0028, -0.0305,  0.0163,  0.0109, -0.0037,  0.0187,\n",
            "         0.0095,  0.0269, -0.0096, -0.0019, -0.0355,  0.0344,  0.0178, -0.0305,\n",
            "        -0.0307, -0.0113, -0.0355,  0.0336, -0.0058, -0.0032,  0.0309,  0.0017,\n",
            "         0.0203, -0.0101,  0.0036, -0.0251, -0.0256, -0.0087,  0.0092, -0.0355,\n",
            "         0.0127, -0.0146, -0.0254, -0.0126, -0.0269,  0.0212,  0.0112, -0.0237,\n",
            "         0.0278,  0.0016, -0.0003,  0.0029, -0.0072,  0.0156,  0.0173, -0.0053,\n",
            "         0.0148,  0.0055,  0.0167, -0.0079,  0.0071,  0.0239,  0.0309,  0.0081,\n",
            "         0.0260,  0.0178, -0.0177,  0.0286, -0.0192,  0.0316, -0.0331, -0.0061,\n",
            "        -0.0203, -0.0219,  0.0069, -0.0191,  0.0133, -0.0211,  0.0017,  0.0135,\n",
            "        -0.0236, -0.0094,  0.0270,  0.0357, -0.0104,  0.0139,  0.0025, -0.0290,\n",
            "         0.0053, -0.0285,  0.0193, -0.0171,  0.0198,  0.0064,  0.0045,  0.0033,\n",
            "        -0.0205, -0.0122,  0.0348, -0.0299, -0.0246,  0.0097, -0.0101, -0.0285,\n",
            "         0.0185,  0.0236,  0.0244, -0.0269, -0.0338, -0.0353,  0.0282,  0.0088,\n",
            "        -0.0025, -0.0083, -0.0050,  0.0320, -0.0272, -0.0181,  0.0189,  0.0148,\n",
            "        -0.0171, -0.0174, -0.0209, -0.0208, -0.0314, -0.0042, -0.0348, -0.0181],\n",
            "       requires_grad=True)\n"
          ],
          "name": "stdout"
        }
      ]
    },
    {
      "cell_type": "markdown",
      "metadata": {
        "colab_type": "text",
        "id": "ML9rABdP6zZD"
      },
      "source": [
        "For custom initialization, we want to modify these tensors in place. These are actually autograd *Variables*, so we need to get back the actual tensors with `model.fc1.weight.data`. Once we have the tensors, we can fill them with zeros (for biases) or random normal values."
      ]
    },
    {
      "cell_type": "code",
      "metadata": {
        "colab_type": "code",
        "id": "PPv-oy8A6zZE",
        "outputId": "bc51ca7b-1fcb-4ea8-d968-1f7589f33a9b",
        "colab": {
          "base_uri": "https://localhost:8080/",
          "height": 139
        }
      },
      "source": [
        "# Set biases to all zeros\n",
        "model.fc1.bias.data.fill_(0)"
      ],
      "execution_count": 0,
      "outputs": [
        {
          "output_type": "execute_result",
          "data": {
            "text/plain": [
              "tensor([0., 0., 0., 0., 0., 0., 0., 0., 0., 0., 0., 0., 0., 0., 0., 0., 0., 0., 0., 0., 0., 0., 0., 0.,\n",
              "        0., 0., 0., 0., 0., 0., 0., 0., 0., 0., 0., 0., 0., 0., 0., 0., 0., 0., 0., 0., 0., 0., 0., 0.,\n",
              "        0., 0., 0., 0., 0., 0., 0., 0., 0., 0., 0., 0., 0., 0., 0., 0., 0., 0., 0., 0., 0., 0., 0., 0.,\n",
              "        0., 0., 0., 0., 0., 0., 0., 0., 0., 0., 0., 0., 0., 0., 0., 0., 0., 0., 0., 0., 0., 0., 0., 0.,\n",
              "        0., 0., 0., 0., 0., 0., 0., 0., 0., 0., 0., 0., 0., 0., 0., 0., 0., 0., 0., 0., 0., 0., 0., 0.,\n",
              "        0., 0., 0., 0., 0., 0., 0., 0.])"
            ]
          },
          "metadata": {
            "tags": []
          },
          "execution_count": 115
        }
      ]
    },
    {
      "cell_type": "code",
      "metadata": {
        "colab_type": "code",
        "id": "YptVWXfG6zZF",
        "outputId": "8867cb60-5bdf-4a1d-c941-3b32284d3f0e",
        "colab": {
          "base_uri": "https://localhost:8080/",
          "height": 136
        }
      },
      "source": [
        "# sample from random normal with standard dev = 0.01\n",
        "model.fc1.weight.data.normal_(std=0.01)"
      ],
      "execution_count": 0,
      "outputs": [
        {
          "output_type": "execute_result",
          "data": {
            "text/plain": [
              "tensor([[ 0.0013, -0.0097, -0.0107,  ...,  0.0088, -0.0066,  0.0040],\n",
              "        [-0.0093,  0.0021,  0.0107,  ...,  0.0003,  0.0007,  0.0027],\n",
              "        [ 0.0085, -0.0038,  0.0023,  ..., -0.0218, -0.0126,  0.0017],\n",
              "        ...,\n",
              "        [ 0.0034, -0.0230,  0.0046,  ...,  0.0049, -0.0056,  0.0109],\n",
              "        [-0.0020,  0.0027, -0.0104,  ...,  0.0089, -0.0030,  0.0080],\n",
              "        [ 0.0027,  0.0078, -0.0043,  ..., -0.0089,  0.0020,  0.0119]])"
            ]
          },
          "metadata": {
            "tags": []
          },
          "execution_count": 116
        }
      ]
    },
    {
      "cell_type": "markdown",
      "metadata": {
        "colab_type": "text",
        "id": "MW-onN1n6zZI"
      },
      "source": [
        "### Forward pass\n",
        "\n",
        "Now that we have a network, let's see what happens when we pass in an image."
      ]
    },
    {
      "cell_type": "code",
      "metadata": {
        "colab_type": "code",
        "id": "OljjGlDz6zZJ",
        "outputId": "25b7917b-5039-411e-fa61-a4fd03856567",
        "colab": {
          "base_uri": "https://localhost:8080/",
          "height": 231
        }
      },
      "source": [
        "# Grab some data \n",
        "dataiter = iter(trainloader)\n",
        "images, labels = dataiter.next()\n",
        "\n",
        "# Resize images into a 1D vector, new shape is (batch size, color channels, image pixels) \n",
        "images.resize_(64, 1, 784)\n",
        "# or images.resize_(images.shape[0], 1, 784) to automatically get batch size\n",
        "\n",
        "# Forward pass through the network\n",
        "img_idx = 0\n",
        "ps = model.forward(images[img_idx,:])\n",
        "\n",
        "img = images[img_idx]\n",
        "\n",
        "import matplotlib.pyplot as plt\n",
        "import numpy as np\n",
        "\n",
        "def view_classify(img, ps, version=\"MNIST\"):\n",
        "    ''' Function for viewing an image and it's predicted classes.\n",
        "    '''\n",
        "    ps = ps.data.numpy().squeeze()\n",
        "\n",
        "    fig, (ax1, ax2) = plt.subplots(figsize=(6,9), ncols=2)\n",
        "    ax1.imshow(img.resize_(1, 28, 28).numpy().squeeze())\n",
        "    ax1.axis('off')\n",
        "    ax2.barh(np.arange(10), ps)\n",
        "    ax2.set_aspect(0.1)\n",
        "    ax2.set_yticks(np.arange(10))\n",
        "    if version == \"MNIST\":\n",
        "        ax2.set_yticklabels(np.arange(10))\n",
        "    elif version == \"Fashion\":\n",
        "        ax2.set_yticklabels(['T-shirt/top',\n",
        "                            'Trouser',\n",
        "                            'Pullover',\n",
        "                            'Dress',\n",
        "                            'Coat',\n",
        "                            'Sandal',\n",
        "                            'Shirt',\n",
        "                            'Sneaker',\n",
        "                            'Bag',\n",
        "                            'Ankle Boot'], size='small');\n",
        "    ax2.set_title('Class Probability')\n",
        "    ax2.set_xlim(0, 1.1)\n",
        "\n",
        "plt.tight_layout()\n",
        "\n",
        "view_classify(img.view(1, 28, 28), ps)"
      ],
      "execution_count": 0,
      "outputs": [
        {
          "output_type": "display_data",
          "data": {
            "text/plain": [
              "<Figure size 432x288 with 0 Axes>"
            ]
          },
          "metadata": {
            "tags": []
          }
        },
        {
          "output_type": "display_data",
          "data": {
            "image/png": "[encoded data removed]",
            "text/plain": [
              "<Figure size 432x648 with 2 Axes>"
            ]
          },
          "metadata": {
            "tags": [],
            "image/png": {
              "width": 370,
              "height": 197
            }
          }
        }
      ]
    },
    {
      "cell_type": "markdown",
      "metadata": {
        "colab_type": "text",
        "id": "uksQyBiW6zZL"
      },
      "source": [
        "As you can see above, our network has basically no idea what this digit is. It's because we haven't trained it yet, all the weights are random!\n",
        "\n",
        "### Using `nn.Sequential`\n",
        "\n",
        "PyTorch provides a convenient way to build networks like this where a tensor is passed sequentially through operations, `nn.Sequential` ([documentation](https://pytorch.org/docs/master/nn.html#torch.nn.Sequential)). Using this to build the equivalent network:"
      ]
    },
    {
      "cell_type": "code",
      "metadata": {
        "colab_type": "code",
        "id": "OVnnBH0K6zZM",
        "outputId": "66295032-a9fc-4508-88c1-2b0fbffaecc2",
        "colab": {
          "base_uri": "https://localhost:8080/",
          "height": 350
        }
      },
      "source": [
        "# Hyperparameters for our network\n",
        "input_size = 784\n",
        "hidden_sizes = [128, 64]\n",
        "output_size = 10\n",
        "\n",
        "# Build a feed-forward network\n",
        "model = nn.Sequential(nn.Linear(input_size, hidden_sizes[0]),\n",
        "                      nn.ReLU(),\n",
        "                      nn.Linear(hidden_sizes[0], hidden_sizes[1]),\n",
        "                      nn.ReLU(),\n",
        "                      nn.Linear(hidden_sizes[1], output_size),\n",
        "                      nn.Softmax(dim=1))\n",
        "print(model)\n",
        "\n",
        "# Forward pass through the network and display output\n",
        "images, labels = next(iter(trainloader))\n",
        "images.resize_(images.shape[0], 1, 784)\n",
        "ps = model.forward(images[0,:])\n",
        "view_classify(images[0].view(1, 28, 28), ps)"
      ],
      "execution_count": 0,
      "outputs": [
        {
          "output_type": "stream",
          "text": [
            "Sequential(\n",
            "  (0): Linear(in_features=784, out_features=128, bias=True)\n",
            "  (1): ReLU()\n",
            "  (2): Linear(in_features=128, out_features=64, bias=True)\n",
            "  (3): ReLU()\n",
            "  (4): Linear(in_features=64, out_features=10, bias=True)\n",
            "  (5): Softmax()\n",
            ")\n"
          ],
          "name": "stdout"
        },
        {
          "output_type": "display_data",
          "data": {
            "image/png": "[encoded data removed]",
            "text/plain": [
              "<Figure size 432x648 with 2 Axes>"
            ]
          },
          "metadata": {
            "tags": [],
            "image/png": {
              "width": 370,
              "height": 197
            }
          }
        }
      ]
    },
    {
      "cell_type": "markdown",
      "metadata": {
        "colab_type": "text",
        "id": "F-iFk0mk6zZO"
      },
      "source": [
        "Here our model is the same as before: 784 input units, a hidden layer with 128 units, ReLU activation, 64 unit hidden layer, another ReLU, then the output layer with 10 units, and the softmax output.\n",
        "\n",
        "The operations are available by passing in the appropriate index. For example, if you want to get first Linear operation and look at the weights, you'd use `model[0]`."
      ]
    },
    {
      "cell_type": "code",
      "metadata": {
        "colab_type": "code",
        "id": "AsEddKQh6zZP",
        "outputId": "54437793-254a-4c66-823b-9eecc0b03f93",
        "colab": {
          "base_uri": "https://localhost:8080/",
          "height": 187
        }
      },
      "source": [
        "print(model[0])\n",
        "model[0].weight"
      ],
      "execution_count": 0,
      "outputs": [
        {
          "output_type": "stream",
          "text": [
            "Linear(in_features=784, out_features=128, bias=True)\n"
          ],
          "name": "stdout"
        },
        {
          "output_type": "execute_result",
          "data": {
            "text/plain": [
              "Parameter containing:\n",
              "tensor([[ 0.0196,  0.0029,  0.0196,  ..., -0.0176,  0.0304,  0.0007],\n",
              "        [-0.0344,  0.0288, -0.0077,  ...,  0.0265, -0.0213,  0.0313],\n",
              "        [-0.0001, -0.0230, -0.0031,  ...,  0.0081, -0.0346,  0.0187],\n",
              "        ...,\n",
              "        [-0.0136,  0.0306, -0.0106,  ...,  0.0192, -0.0165, -0.0246],\n",
              "        [ 0.0025, -0.0119,  0.0014,  ...,  0.0079,  0.0341, -0.0039],\n",
              "        [ 0.0193,  0.0231, -0.0019,  ..., -0.0343, -0.0166,  0.0201]],\n",
              "       requires_grad=True)"
            ]
          },
          "metadata": {
            "tags": []
          },
          "execution_count": 129
        }
      ]
    },
    {
      "cell_type": "markdown",
      "metadata": {
        "colab_type": "text",
        "id": "4o-IuSBg6zZR"
      },
      "source": [
        "You can also pass in an `OrderedDict` to name the individual layers and operations, instead of using incremental integers. Note that dictionary keys must be unique, so _each operation must have a different name_."
      ]
    },
    {
      "cell_type": "code",
      "metadata": {
        "colab_type": "code",
        "id": "_A9aQIw66zZR",
        "outputId": "5bf1296d-5227-4e64-dd6f-a5133536915a",
        "colab": {
          "base_uri": "https://localhost:8080/",
          "height": 153
        }
      },
      "source": [
        "from collections import OrderedDict\n",
        "model = nn.Sequential(OrderedDict([\n",
        "                      ('fc1', nn.Linear(input_size, hidden_sizes[0])),\n",
        "                      ('relu1', nn.ReLU()),\n",
        "                      ('fc2', nn.Linear(hidden_sizes[0], hidden_sizes[1])),\n",
        "                      ('relu2', nn.ReLU()),\n",
        "                      ('output', nn.Linear(hidden_sizes[1], output_size)),\n",
        "                      ('softmax', nn.Softmax(dim=1))]))\n",
        "model"
      ],
      "execution_count": 0,
      "outputs": [
        {
          "output_type": "execute_result",
          "data": {
            "text/plain": [
              "Sequential(\n",
              "  (fc1): Linear(in_features=784, out_features=128, bias=True)\n",
              "  (relu1): ReLU()\n",
              "  (fc2): Linear(in_features=128, out_features=64, bias=True)\n",
              "  (relu2): ReLU()\n",
              "  (output): Linear(in_features=64, out_features=10, bias=True)\n",
              "  (softmax): Softmax()\n",
              ")"
            ]
          },
          "metadata": {
            "tags": []
          },
          "execution_count": 130
        }
      ]
    },
    {
      "cell_type": "markdown",
      "metadata": {
        "colab_type": "text",
        "id": "dO1Ca5Cq6zZU"
      },
      "source": [
        "Now you can access layers either by integer or the name"
      ]
    },
    {
      "cell_type": "code",
      "metadata": {
        "colab_type": "code",
        "id": "x20hrP8v6zZU",
        "outputId": "2f2c45c7-a09e-445f-d263-611b7926ccdd",
        "colab": {
          "base_uri": "https://localhost:8080/",
          "height": 51
        }
      },
      "source": [
        "print(model[0])\n",
        "print(model.fc1)"
      ],
      "execution_count": 0,
      "outputs": [
        {
          "output_type": "stream",
          "text": [
            "Linear(in_features=784, out_features=128, bias=True)\n",
            "Linear(in_features=784, out_features=128, bias=True)\n"
          ],
          "name": "stdout"
        }
      ]
    },
    {
      "cell_type": "markdown",
      "metadata": {
        "colab_type": "text",
        "id": "WZkFrFqS6zZW"
      },
      "source": [
        "In the next notebook, we'll see how we can train a neural network to accuractly predict the numbers appearing in the MNIST images."
      ]
    }
  ]
}